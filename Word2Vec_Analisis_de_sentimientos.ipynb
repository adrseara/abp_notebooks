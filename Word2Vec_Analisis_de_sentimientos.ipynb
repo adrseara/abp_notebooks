{
  "nbformat": 4,
  "nbformat_minor": 0,
  "metadata": {
    "colab": {
      "provenance": [],
      "collapsed_sections": []
    },
    "kernelspec": {
      "name": "python3",
      "display_name": "Python 3"
    },
    "language_info": {
      "name": "python"
    }
  },
  "cells": [
    {
      "cell_type": "markdown",
      "source": [
        "# **Montar Google Drive**\n",
        "\n",
        "En la siguiente celda se muestra el código correspondiente al montaje de archivos que se encuentran en Google Drive. Para ello se solicita la autorización para poder acceder para permitir el montaje en la máquina virtual.\n"
      ],
      "metadata": {
        "id": "4fPtHW8Op5B_"
      }
    },
    {
      "cell_type": "code",
      "source": [
        "from google.colab import drive\n",
        "drive.mount('/gdrive')\n",
        "%cd /gdrive"
      ],
      "metadata": {
        "colab": {
          "base_uri": "https://localhost:8080/"
        },
        "id": "HdGSwKfFoIaB",
        "outputId": "0346330d-f97d-4e9f-b775-aa12957dcd28"
      },
      "execution_count": null,
      "outputs": [
        {
          "output_type": "stream",
          "name": "stdout",
          "text": [
            "Drive already mounted at /gdrive; to attempt to forcibly remount, call drive.mount(\"/gdrive\", force_remount=True).\n",
            "/gdrive\n"
          ]
        }
      ]
    },
    {
      "cell_type": "code",
      "source": [
        "import numpy as np\n",
        "import pandas as pd"
      ],
      "metadata": {
        "id": "8n1LWsV4rPuA"
      },
      "execution_count": null,
      "outputs": []
    },
    {
      "cell_type": "markdown",
      "source": [
        "# **Acceso al corpus**\n",
        "\n",
        "El dataset con el que se trabaja contiene una colección de 4500 documentos extraidos de Twitter con ninguna ninguna temática común. \n",
        "\n",
        "Los documentos que forman este corpus ya ha pasado por un proceso de limpieza en el se ha:\n",
        "\n",
        " \n",
        "\n",
        "1. Eliminado enlaces, menciones, hashtags y retweets\n",
        "2. Reducir caracteres duplicados\n",
        "3. Suprimir risas (hahaha, jajaja) contemplando que puedan ser con cualquier vocal\n",
        "4. Eliminado tildes o caracteres raros que se encuentren en las letras.\n",
        "5. Descartar cualquier caracter que no sean letras\n",
        "6. Se sustituyen los tabuladores por espacios en blanco\n",
        "7. Si hay varios espacios en blanco se sustituyen por un solo espacio.\n",
        "8. Quitar espacios al comienzo del tweet y al final\n",
        "9. Eliminar saltos de línea que puedan existir en cualquier parte de la cadena.\n",
        "10. Elimiar stopwords\n",
        "11. Aplicar stemming\n",
        "\n",
        "\n",
        "Así mismo, se han eliminado todas las columnas que no eran relevantes, dando como resultado un corpus formado por dos columnas. La primera representa el sentimiento asociado a un documento y la segunda alberga cada uno de los tweets.\n",
        "\n",
        "Las polaridades contempladas son dos únicamente; 0 para el sentimiento negativo y 4 para el positivo."
      ],
      "metadata": {
        "id": "Eqvlu47ysUKy"
      }
    },
    {
      "cell_type": "code",
      "source": [
        "corpus = pd.read_csv(\"/gdrive/MyDrive/Colab Notebooks/sentiment140.csv\")\n",
        "corpus"
      ],
      "metadata": {
        "colab": {
          "base_uri": "https://localhost:8080/",
          "height": 424
        },
        "id": "kkkqQJO7okx5",
        "outputId": "05dfd994-cc2b-41c8-aebf-4c21d352efc5"
      },
      "execution_count": null,
      "outputs": [
        {
          "output_type": "execute_result",
          "data": {
            "text/plain": [
              "       Sentiment                                              Tweet\n",
              "0              4  realis use twitter often coz atm look like lea...\n",
              "1              0                                         work today\n",
              "2              0                                        still sleep\n",
              "3              0                  heavi week ahead heavi cold match\n",
              "4              0  thunder much cute hair quot anoth music festiv...\n",
              "...          ...                                                ...\n",
              "44995          4                                          lunch bff\n",
              "44996          0                                     sorri hear dog\n",
              "44997          4                                    goodnight world\n",
              "44998          0                             make regret live state\n",
              "44999          0                         lucki sun warm enough bath\n",
              "\n",
              "[45000 rows x 2 columns]"
            ],
            "text/html": [
              "\n",
              "  <div id=\"df-a44f6b90-c2b9-4415-8cda-4941630a41f9\">\n",
              "    <div class=\"colab-df-container\">\n",
              "      <div>\n",
              "<style scoped>\n",
              "    .dataframe tbody tr th:only-of-type {\n",
              "        vertical-align: middle;\n",
              "    }\n",
              "\n",
              "    .dataframe tbody tr th {\n",
              "        vertical-align: top;\n",
              "    }\n",
              "\n",
              "    .dataframe thead th {\n",
              "        text-align: right;\n",
              "    }\n",
              "</style>\n",
              "<table border=\"1\" class=\"dataframe\">\n",
              "  <thead>\n",
              "    <tr style=\"text-align: right;\">\n",
              "      <th></th>\n",
              "      <th>Sentiment</th>\n",
              "      <th>Tweet</th>\n",
              "    </tr>\n",
              "  </thead>\n",
              "  <tbody>\n",
              "    <tr>\n",
              "      <th>0</th>\n",
              "      <td>4</td>\n",
              "      <td>realis use twitter often coz atm look like lea...</td>\n",
              "    </tr>\n",
              "    <tr>\n",
              "      <th>1</th>\n",
              "      <td>0</td>\n",
              "      <td>work today</td>\n",
              "    </tr>\n",
              "    <tr>\n",
              "      <th>2</th>\n",
              "      <td>0</td>\n",
              "      <td>still sleep</td>\n",
              "    </tr>\n",
              "    <tr>\n",
              "      <th>3</th>\n",
              "      <td>0</td>\n",
              "      <td>heavi week ahead heavi cold match</td>\n",
              "    </tr>\n",
              "    <tr>\n",
              "      <th>4</th>\n",
              "      <td>0</td>\n",
              "      <td>thunder much cute hair quot anoth music festiv...</td>\n",
              "    </tr>\n",
              "    <tr>\n",
              "      <th>...</th>\n",
              "      <td>...</td>\n",
              "      <td>...</td>\n",
              "    </tr>\n",
              "    <tr>\n",
              "      <th>44995</th>\n",
              "      <td>4</td>\n",
              "      <td>lunch bff</td>\n",
              "    </tr>\n",
              "    <tr>\n",
              "      <th>44996</th>\n",
              "      <td>0</td>\n",
              "      <td>sorri hear dog</td>\n",
              "    </tr>\n",
              "    <tr>\n",
              "      <th>44997</th>\n",
              "      <td>4</td>\n",
              "      <td>goodnight world</td>\n",
              "    </tr>\n",
              "    <tr>\n",
              "      <th>44998</th>\n",
              "      <td>0</td>\n",
              "      <td>make regret live state</td>\n",
              "    </tr>\n",
              "    <tr>\n",
              "      <th>44999</th>\n",
              "      <td>0</td>\n",
              "      <td>lucki sun warm enough bath</td>\n",
              "    </tr>\n",
              "  </tbody>\n",
              "</table>\n",
              "<p>45000 rows × 2 columns</p>\n",
              "</div>\n",
              "      <button class=\"colab-df-convert\" onclick=\"convertToInteractive('df-a44f6b90-c2b9-4415-8cda-4941630a41f9')\"\n",
              "              title=\"Convert this dataframe to an interactive table.\"\n",
              "              style=\"display:none;\">\n",
              "        \n",
              "  <svg xmlns=\"http://www.w3.org/2000/svg\" height=\"24px\"viewBox=\"0 0 24 24\"\n",
              "       width=\"24px\">\n",
              "    <path d=\"M0 0h24v24H0V0z\" fill=\"none\"/>\n",
              "    <path d=\"M18.56 5.44l.94 2.06.94-2.06 2.06-.94-2.06-.94-.94-2.06-.94 2.06-2.06.94zm-11 1L8.5 8.5l.94-2.06 2.06-.94-2.06-.94L8.5 2.5l-.94 2.06-2.06.94zm10 10l.94 2.06.94-2.06 2.06-.94-2.06-.94-.94-2.06-.94 2.06-2.06.94z\"/><path d=\"M17.41 7.96l-1.37-1.37c-.4-.4-.92-.59-1.43-.59-.52 0-1.04.2-1.43.59L10.3 9.45l-7.72 7.72c-.78.78-.78 2.05 0 2.83L4 21.41c.39.39.9.59 1.41.59.51 0 1.02-.2 1.41-.59l7.78-7.78 2.81-2.81c.8-.78.8-2.07 0-2.86zM5.41 20L4 18.59l7.72-7.72 1.47 1.35L5.41 20z\"/>\n",
              "  </svg>\n",
              "      </button>\n",
              "      \n",
              "  <style>\n",
              "    .colab-df-container {\n",
              "      display:flex;\n",
              "      flex-wrap:wrap;\n",
              "      gap: 12px;\n",
              "    }\n",
              "\n",
              "    .colab-df-convert {\n",
              "      background-color: #E8F0FE;\n",
              "      border: none;\n",
              "      border-radius: 50%;\n",
              "      cursor: pointer;\n",
              "      display: none;\n",
              "      fill: #1967D2;\n",
              "      height: 32px;\n",
              "      padding: 0 0 0 0;\n",
              "      width: 32px;\n",
              "    }\n",
              "\n",
              "    .colab-df-convert:hover {\n",
              "      background-color: #E2EBFA;\n",
              "      box-shadow: 0px 1px 2px rgba(60, 64, 67, 0.3), 0px 1px 3px 1px rgba(60, 64, 67, 0.15);\n",
              "      fill: #174EA6;\n",
              "    }\n",
              "\n",
              "    [theme=dark] .colab-df-convert {\n",
              "      background-color: #3B4455;\n",
              "      fill: #D2E3FC;\n",
              "    }\n",
              "\n",
              "    [theme=dark] .colab-df-convert:hover {\n",
              "      background-color: #434B5C;\n",
              "      box-shadow: 0px 1px 3px 1px rgba(0, 0, 0, 0.15);\n",
              "      filter: drop-shadow(0px 1px 2px rgba(0, 0, 0, 0.3));\n",
              "      fill: #FFFFFF;\n",
              "    }\n",
              "  </style>\n",
              "\n",
              "      <script>\n",
              "        const buttonEl =\n",
              "          document.querySelector('#df-a44f6b90-c2b9-4415-8cda-4941630a41f9 button.colab-df-convert');\n",
              "        buttonEl.style.display =\n",
              "          google.colab.kernel.accessAllowed ? 'block' : 'none';\n",
              "\n",
              "        async function convertToInteractive(key) {\n",
              "          const element = document.querySelector('#df-a44f6b90-c2b9-4415-8cda-4941630a41f9');\n",
              "          const dataTable =\n",
              "            await google.colab.kernel.invokeFunction('convertToInteractive',\n",
              "                                                     [key], {});\n",
              "          if (!dataTable) return;\n",
              "\n",
              "          const docLinkHtml = 'Like what you see? Visit the ' +\n",
              "            '<a target=\"_blank\" href=https://colab.research.google.com/notebooks/data_table.ipynb>data table notebook</a>'\n",
              "            + ' to learn more about interactive tables.';\n",
              "          element.innerHTML = '';\n",
              "          dataTable['output_type'] = 'display_data';\n",
              "          await google.colab.output.renderOutput(dataTable, element);\n",
              "          const docLink = document.createElement('div');\n",
              "          docLink.innerHTML = docLinkHtml;\n",
              "          element.appendChild(docLink);\n",
              "        }\n",
              "      </script>\n",
              "    </div>\n",
              "  </div>\n",
              "  "
            ]
          },
          "metadata": {},
          "execution_count": 158
        }
      ]
    },
    {
      "cell_type": "markdown",
      "source": [
        "Para que dure menos el proceso se va a reducir el corpus a 1000 documentos."
      ],
      "metadata": {
        "id": "09VvtM17526U"
      }
    },
    {
      "cell_type": "code",
      "source": [
        "reduced_corpus = corpus.iloc[:1000]\n",
        "reduced_corpus"
      ],
      "metadata": {
        "colab": {
          "base_uri": "https://localhost:8080/",
          "height": 424
        },
        "id": "ZbQJxkGw591K",
        "outputId": "a05fc70d-4325-49da-e437-72f4e25f20ff"
      },
      "execution_count": null,
      "outputs": [
        {
          "output_type": "execute_result",
          "data": {
            "text/plain": [
              "     Sentiment                                              Tweet\n",
              "0            4  realis use twitter often coz atm look like lea...\n",
              "1            0                                         work today\n",
              "2            0                                        still sleep\n",
              "3            0                  heavi week ahead heavi cold match\n",
              "4            0  thunder much cute hair quot anoth music festiv...\n",
              "..         ...                                                ...\n",
              "995          0                                im sure realli andi\n",
              "996          0  dinner ok mussel appet follow chicken stew quo...\n",
              "997          0  secretgarden gotten porn spammer check follow ...\n",
              "998          0      nap interrupt mani time today go japanes rent\n",
              "999          4    stay way late read help work sbo till back read\n",
              "\n",
              "[1000 rows x 2 columns]"
            ],
            "text/html": [
              "\n",
              "  <div id=\"df-692932a3-170a-42ff-9e28-e22375606eca\">\n",
              "    <div class=\"colab-df-container\">\n",
              "      <div>\n",
              "<style scoped>\n",
              "    .dataframe tbody tr th:only-of-type {\n",
              "        vertical-align: middle;\n",
              "    }\n",
              "\n",
              "    .dataframe tbody tr th {\n",
              "        vertical-align: top;\n",
              "    }\n",
              "\n",
              "    .dataframe thead th {\n",
              "        text-align: right;\n",
              "    }\n",
              "</style>\n",
              "<table border=\"1\" class=\"dataframe\">\n",
              "  <thead>\n",
              "    <tr style=\"text-align: right;\">\n",
              "      <th></th>\n",
              "      <th>Sentiment</th>\n",
              "      <th>Tweet</th>\n",
              "    </tr>\n",
              "  </thead>\n",
              "  <tbody>\n",
              "    <tr>\n",
              "      <th>0</th>\n",
              "      <td>4</td>\n",
              "      <td>realis use twitter often coz atm look like lea...</td>\n",
              "    </tr>\n",
              "    <tr>\n",
              "      <th>1</th>\n",
              "      <td>0</td>\n",
              "      <td>work today</td>\n",
              "    </tr>\n",
              "    <tr>\n",
              "      <th>2</th>\n",
              "      <td>0</td>\n",
              "      <td>still sleep</td>\n",
              "    </tr>\n",
              "    <tr>\n",
              "      <th>3</th>\n",
              "      <td>0</td>\n",
              "      <td>heavi week ahead heavi cold match</td>\n",
              "    </tr>\n",
              "    <tr>\n",
              "      <th>4</th>\n",
              "      <td>0</td>\n",
              "      <td>thunder much cute hair quot anoth music festiv...</td>\n",
              "    </tr>\n",
              "    <tr>\n",
              "      <th>...</th>\n",
              "      <td>...</td>\n",
              "      <td>...</td>\n",
              "    </tr>\n",
              "    <tr>\n",
              "      <th>995</th>\n",
              "      <td>0</td>\n",
              "      <td>im sure realli andi</td>\n",
              "    </tr>\n",
              "    <tr>\n",
              "      <th>996</th>\n",
              "      <td>0</td>\n",
              "      <td>dinner ok mussel appet follow chicken stew quo...</td>\n",
              "    </tr>\n",
              "    <tr>\n",
              "      <th>997</th>\n",
              "      <td>0</td>\n",
              "      <td>secretgarden gotten porn spammer check follow ...</td>\n",
              "    </tr>\n",
              "    <tr>\n",
              "      <th>998</th>\n",
              "      <td>0</td>\n",
              "      <td>nap interrupt mani time today go japanes rent</td>\n",
              "    </tr>\n",
              "    <tr>\n",
              "      <th>999</th>\n",
              "      <td>4</td>\n",
              "      <td>stay way late read help work sbo till back read</td>\n",
              "    </tr>\n",
              "  </tbody>\n",
              "</table>\n",
              "<p>1000 rows × 2 columns</p>\n",
              "</div>\n",
              "      <button class=\"colab-df-convert\" onclick=\"convertToInteractive('df-692932a3-170a-42ff-9e28-e22375606eca')\"\n",
              "              title=\"Convert this dataframe to an interactive table.\"\n",
              "              style=\"display:none;\">\n",
              "        \n",
              "  <svg xmlns=\"http://www.w3.org/2000/svg\" height=\"24px\"viewBox=\"0 0 24 24\"\n",
              "       width=\"24px\">\n",
              "    <path d=\"M0 0h24v24H0V0z\" fill=\"none\"/>\n",
              "    <path d=\"M18.56 5.44l.94 2.06.94-2.06 2.06-.94-2.06-.94-.94-2.06-.94 2.06-2.06.94zm-11 1L8.5 8.5l.94-2.06 2.06-.94-2.06-.94L8.5 2.5l-.94 2.06-2.06.94zm10 10l.94 2.06.94-2.06 2.06-.94-2.06-.94-.94-2.06-.94 2.06-2.06.94z\"/><path d=\"M17.41 7.96l-1.37-1.37c-.4-.4-.92-.59-1.43-.59-.52 0-1.04.2-1.43.59L10.3 9.45l-7.72 7.72c-.78.78-.78 2.05 0 2.83L4 21.41c.39.39.9.59 1.41.59.51 0 1.02-.2 1.41-.59l7.78-7.78 2.81-2.81c.8-.78.8-2.07 0-2.86zM5.41 20L4 18.59l7.72-7.72 1.47 1.35L5.41 20z\"/>\n",
              "  </svg>\n",
              "      </button>\n",
              "      \n",
              "  <style>\n",
              "    .colab-df-container {\n",
              "      display:flex;\n",
              "      flex-wrap:wrap;\n",
              "      gap: 12px;\n",
              "    }\n",
              "\n",
              "    .colab-df-convert {\n",
              "      background-color: #E8F0FE;\n",
              "      border: none;\n",
              "      border-radius: 50%;\n",
              "      cursor: pointer;\n",
              "      display: none;\n",
              "      fill: #1967D2;\n",
              "      height: 32px;\n",
              "      padding: 0 0 0 0;\n",
              "      width: 32px;\n",
              "    }\n",
              "\n",
              "    .colab-df-convert:hover {\n",
              "      background-color: #E2EBFA;\n",
              "      box-shadow: 0px 1px 2px rgba(60, 64, 67, 0.3), 0px 1px 3px 1px rgba(60, 64, 67, 0.15);\n",
              "      fill: #174EA6;\n",
              "    }\n",
              "\n",
              "    [theme=dark] .colab-df-convert {\n",
              "      background-color: #3B4455;\n",
              "      fill: #D2E3FC;\n",
              "    }\n",
              "\n",
              "    [theme=dark] .colab-df-convert:hover {\n",
              "      background-color: #434B5C;\n",
              "      box-shadow: 0px 1px 3px 1px rgba(0, 0, 0, 0.15);\n",
              "      filter: drop-shadow(0px 1px 2px rgba(0, 0, 0, 0.3));\n",
              "      fill: #FFFFFF;\n",
              "    }\n",
              "  </style>\n",
              "\n",
              "      <script>\n",
              "        const buttonEl =\n",
              "          document.querySelector('#df-692932a3-170a-42ff-9e28-e22375606eca button.colab-df-convert');\n",
              "        buttonEl.style.display =\n",
              "          google.colab.kernel.accessAllowed ? 'block' : 'none';\n",
              "\n",
              "        async function convertToInteractive(key) {\n",
              "          const element = document.querySelector('#df-692932a3-170a-42ff-9e28-e22375606eca');\n",
              "          const dataTable =\n",
              "            await google.colab.kernel.invokeFunction('convertToInteractive',\n",
              "                                                     [key], {});\n",
              "          if (!dataTable) return;\n",
              "\n",
              "          const docLinkHtml = 'Like what you see? Visit the ' +\n",
              "            '<a target=\"_blank\" href=https://colab.research.google.com/notebooks/data_table.ipynb>data table notebook</a>'\n",
              "            + ' to learn more about interactive tables.';\n",
              "          element.innerHTML = '';\n",
              "          dataTable['output_type'] = 'display_data';\n",
              "          await google.colab.output.renderOutput(dataTable, element);\n",
              "          const docLink = document.createElement('div');\n",
              "          docLink.innerHTML = docLinkHtml;\n",
              "          element.appendChild(docLink);\n",
              "        }\n",
              "      </script>\n",
              "    </div>\n",
              "  </div>\n",
              "  "
            ]
          },
          "metadata": {},
          "execution_count": 159
        }
      ]
    },
    {
      "cell_type": "markdown",
      "source": [
        "Se utiliza la función pandas.DataFrame.***astype()*** para convertir una columna particular del corpus en el tipo de dato específico que se indique entre parentesis.\n",
        "\n"
      ],
      "metadata": {
        "id": "fKlrD9MwxRpI"
      }
    },
    {
      "cell_type": "code",
      "source": [
        "reduced_corpus[\"Tweet_split\"] = reduced_corpus[\"Tweet\"].astype(str)\n",
        "reduced_corpus"
      ],
      "metadata": {
        "id": "CKWRu06YohrB",
        "colab": {
          "base_uri": "https://localhost:8080/",
          "height": 530
        },
        "outputId": "1b2827a9-abfe-4a27-dc05-0aa445aa7794"
      },
      "execution_count": null,
      "outputs": [
        {
          "output_type": "stream",
          "name": "stderr",
          "text": [
            "/usr/local/lib/python3.7/dist-packages/ipykernel_launcher.py:1: SettingWithCopyWarning: \n",
            "A value is trying to be set on a copy of a slice from a DataFrame.\n",
            "Try using .loc[row_indexer,col_indexer] = value instead\n",
            "\n",
            "See the caveats in the documentation: https://pandas.pydata.org/pandas-docs/stable/user_guide/indexing.html#returning-a-view-versus-a-copy\n",
            "  \"\"\"Entry point for launching an IPython kernel.\n"
          ]
        },
        {
          "output_type": "execute_result",
          "data": {
            "text/plain": [
              "     Sentiment                                              Tweet  \\\n",
              "0            4  realis use twitter often coz atm look like lea...   \n",
              "1            0                                         work today   \n",
              "2            0                                        still sleep   \n",
              "3            0                  heavi week ahead heavi cold match   \n",
              "4            0  thunder much cute hair quot anoth music festiv...   \n",
              "..         ...                                                ...   \n",
              "995          0                                im sure realli andi   \n",
              "996          0  dinner ok mussel appet follow chicken stew quo...   \n",
              "997          0  secretgarden gotten porn spammer check follow ...   \n",
              "998          0      nap interrupt mani time today go japanes rent   \n",
              "999          4    stay way late read help work sbo till back read   \n",
              "\n",
              "                                           Tweet_split  \n",
              "0    realis use twitter often coz atm look like lea...  \n",
              "1                                           work today  \n",
              "2                                          still sleep  \n",
              "3                    heavi week ahead heavi cold match  \n",
              "4    thunder much cute hair quot anoth music festiv...  \n",
              "..                                                 ...  \n",
              "995                                im sure realli andi  \n",
              "996  dinner ok mussel appet follow chicken stew quo...  \n",
              "997  secretgarden gotten porn spammer check follow ...  \n",
              "998      nap interrupt mani time today go japanes rent  \n",
              "999    stay way late read help work sbo till back read  \n",
              "\n",
              "[1000 rows x 3 columns]"
            ],
            "text/html": [
              "\n",
              "  <div id=\"df-de5573cf-f48e-485d-b83c-e73581042250\">\n",
              "    <div class=\"colab-df-container\">\n",
              "      <div>\n",
              "<style scoped>\n",
              "    .dataframe tbody tr th:only-of-type {\n",
              "        vertical-align: middle;\n",
              "    }\n",
              "\n",
              "    .dataframe tbody tr th {\n",
              "        vertical-align: top;\n",
              "    }\n",
              "\n",
              "    .dataframe thead th {\n",
              "        text-align: right;\n",
              "    }\n",
              "</style>\n",
              "<table border=\"1\" class=\"dataframe\">\n",
              "  <thead>\n",
              "    <tr style=\"text-align: right;\">\n",
              "      <th></th>\n",
              "      <th>Sentiment</th>\n",
              "      <th>Tweet</th>\n",
              "      <th>Tweet_split</th>\n",
              "    </tr>\n",
              "  </thead>\n",
              "  <tbody>\n",
              "    <tr>\n",
              "      <th>0</th>\n",
              "      <td>4</td>\n",
              "      <td>realis use twitter often coz atm look like lea...</td>\n",
              "      <td>realis use twitter often coz atm look like lea...</td>\n",
              "    </tr>\n",
              "    <tr>\n",
              "      <th>1</th>\n",
              "      <td>0</td>\n",
              "      <td>work today</td>\n",
              "      <td>work today</td>\n",
              "    </tr>\n",
              "    <tr>\n",
              "      <th>2</th>\n",
              "      <td>0</td>\n",
              "      <td>still sleep</td>\n",
              "      <td>still sleep</td>\n",
              "    </tr>\n",
              "    <tr>\n",
              "      <th>3</th>\n",
              "      <td>0</td>\n",
              "      <td>heavi week ahead heavi cold match</td>\n",
              "      <td>heavi week ahead heavi cold match</td>\n",
              "    </tr>\n",
              "    <tr>\n",
              "      <th>4</th>\n",
              "      <td>0</td>\n",
              "      <td>thunder much cute hair quot anoth music festiv...</td>\n",
              "      <td>thunder much cute hair quot anoth music festiv...</td>\n",
              "    </tr>\n",
              "    <tr>\n",
              "      <th>...</th>\n",
              "      <td>...</td>\n",
              "      <td>...</td>\n",
              "      <td>...</td>\n",
              "    </tr>\n",
              "    <tr>\n",
              "      <th>995</th>\n",
              "      <td>0</td>\n",
              "      <td>im sure realli andi</td>\n",
              "      <td>im sure realli andi</td>\n",
              "    </tr>\n",
              "    <tr>\n",
              "      <th>996</th>\n",
              "      <td>0</td>\n",
              "      <td>dinner ok mussel appet follow chicken stew quo...</td>\n",
              "      <td>dinner ok mussel appet follow chicken stew quo...</td>\n",
              "    </tr>\n",
              "    <tr>\n",
              "      <th>997</th>\n",
              "      <td>0</td>\n",
              "      <td>secretgarden gotten porn spammer check follow ...</td>\n",
              "      <td>secretgarden gotten porn spammer check follow ...</td>\n",
              "    </tr>\n",
              "    <tr>\n",
              "      <th>998</th>\n",
              "      <td>0</td>\n",
              "      <td>nap interrupt mani time today go japanes rent</td>\n",
              "      <td>nap interrupt mani time today go japanes rent</td>\n",
              "    </tr>\n",
              "    <tr>\n",
              "      <th>999</th>\n",
              "      <td>4</td>\n",
              "      <td>stay way late read help work sbo till back read</td>\n",
              "      <td>stay way late read help work sbo till back read</td>\n",
              "    </tr>\n",
              "  </tbody>\n",
              "</table>\n",
              "<p>1000 rows × 3 columns</p>\n",
              "</div>\n",
              "      <button class=\"colab-df-convert\" onclick=\"convertToInteractive('df-de5573cf-f48e-485d-b83c-e73581042250')\"\n",
              "              title=\"Convert this dataframe to an interactive table.\"\n",
              "              style=\"display:none;\">\n",
              "        \n",
              "  <svg xmlns=\"http://www.w3.org/2000/svg\" height=\"24px\"viewBox=\"0 0 24 24\"\n",
              "       width=\"24px\">\n",
              "    <path d=\"M0 0h24v24H0V0z\" fill=\"none\"/>\n",
              "    <path d=\"M18.56 5.44l.94 2.06.94-2.06 2.06-.94-2.06-.94-.94-2.06-.94 2.06-2.06.94zm-11 1L8.5 8.5l.94-2.06 2.06-.94-2.06-.94L8.5 2.5l-.94 2.06-2.06.94zm10 10l.94 2.06.94-2.06 2.06-.94-2.06-.94-.94-2.06-.94 2.06-2.06.94z\"/><path d=\"M17.41 7.96l-1.37-1.37c-.4-.4-.92-.59-1.43-.59-.52 0-1.04.2-1.43.59L10.3 9.45l-7.72 7.72c-.78.78-.78 2.05 0 2.83L4 21.41c.39.39.9.59 1.41.59.51 0 1.02-.2 1.41-.59l7.78-7.78 2.81-2.81c.8-.78.8-2.07 0-2.86zM5.41 20L4 18.59l7.72-7.72 1.47 1.35L5.41 20z\"/>\n",
              "  </svg>\n",
              "      </button>\n",
              "      \n",
              "  <style>\n",
              "    .colab-df-container {\n",
              "      display:flex;\n",
              "      flex-wrap:wrap;\n",
              "      gap: 12px;\n",
              "    }\n",
              "\n",
              "    .colab-df-convert {\n",
              "      background-color: #E8F0FE;\n",
              "      border: none;\n",
              "      border-radius: 50%;\n",
              "      cursor: pointer;\n",
              "      display: none;\n",
              "      fill: #1967D2;\n",
              "      height: 32px;\n",
              "      padding: 0 0 0 0;\n",
              "      width: 32px;\n",
              "    }\n",
              "\n",
              "    .colab-df-convert:hover {\n",
              "      background-color: #E2EBFA;\n",
              "      box-shadow: 0px 1px 2px rgba(60, 64, 67, 0.3), 0px 1px 3px 1px rgba(60, 64, 67, 0.15);\n",
              "      fill: #174EA6;\n",
              "    }\n",
              "\n",
              "    [theme=dark] .colab-df-convert {\n",
              "      background-color: #3B4455;\n",
              "      fill: #D2E3FC;\n",
              "    }\n",
              "\n",
              "    [theme=dark] .colab-df-convert:hover {\n",
              "      background-color: #434B5C;\n",
              "      box-shadow: 0px 1px 3px 1px rgba(0, 0, 0, 0.15);\n",
              "      filter: drop-shadow(0px 1px 2px rgba(0, 0, 0, 0.3));\n",
              "      fill: #FFFFFF;\n",
              "    }\n",
              "  </style>\n",
              "\n",
              "      <script>\n",
              "        const buttonEl =\n",
              "          document.querySelector('#df-de5573cf-f48e-485d-b83c-e73581042250 button.colab-df-convert');\n",
              "        buttonEl.style.display =\n",
              "          google.colab.kernel.accessAllowed ? 'block' : 'none';\n",
              "\n",
              "        async function convertToInteractive(key) {\n",
              "          const element = document.querySelector('#df-de5573cf-f48e-485d-b83c-e73581042250');\n",
              "          const dataTable =\n",
              "            await google.colab.kernel.invokeFunction('convertToInteractive',\n",
              "                                                     [key], {});\n",
              "          if (!dataTable) return;\n",
              "\n",
              "          const docLinkHtml = 'Like what you see? Visit the ' +\n",
              "            '<a target=\"_blank\" href=https://colab.research.google.com/notebooks/data_table.ipynb>data table notebook</a>'\n",
              "            + ' to learn more about interactive tables.';\n",
              "          element.innerHTML = '';\n",
              "          dataTable['output_type'] = 'display_data';\n",
              "          await google.colab.output.renderOutput(dataTable, element);\n",
              "          const docLink = document.createElement('div');\n",
              "          docLink.innerHTML = docLinkHtml;\n",
              "          element.appendChild(docLink);\n",
              "        }\n",
              "      </script>\n",
              "    </div>\n",
              "  </div>\n",
              "  "
            ]
          },
          "metadata": {},
          "execution_count": 160
        }
      ]
    },
    {
      "cell_type": "markdown",
      "source": [
        "Se debe aplicar ***split()*** en los documentos porque Word2Vec necesita como entrada un conjunto de frases que sean iterables. \n",
        "\n",
        "Esta función está asociada a los tipos de datos ***string*** que devuelve una lista formada por cada una de las palabras que forman una frase u oración."
      ],
      "metadata": {
        "id": "w1lhbhQT0vGE"
      }
    },
    {
      "cell_type": "code",
      "source": [
        "reduced_corpus[\"Tweet_split\"] = reduced_corpus[\"Tweet_split\"].str.split(\" \")\n",
        "reduced_corpus"
      ],
      "metadata": {
        "colab": {
          "base_uri": "https://localhost:8080/",
          "height": 530
        },
        "id": "UdhLrPRlxE5g",
        "outputId": "46e84e80-97d2-49cd-bf36-37f48729538b"
      },
      "execution_count": null,
      "outputs": [
        {
          "output_type": "stream",
          "name": "stderr",
          "text": [
            "/usr/local/lib/python3.7/dist-packages/ipykernel_launcher.py:1: SettingWithCopyWarning: \n",
            "A value is trying to be set on a copy of a slice from a DataFrame.\n",
            "Try using .loc[row_indexer,col_indexer] = value instead\n",
            "\n",
            "See the caveats in the documentation: https://pandas.pydata.org/pandas-docs/stable/user_guide/indexing.html#returning-a-view-versus-a-copy\n",
            "  \"\"\"Entry point for launching an IPython kernel.\n"
          ]
        },
        {
          "output_type": "execute_result",
          "data": {
            "text/plain": [
              "     Sentiment                                              Tweet  \\\n",
              "0            4  realis use twitter often coz atm look like lea...   \n",
              "1            0                                         work today   \n",
              "2            0                                        still sleep   \n",
              "3            0                  heavi week ahead heavi cold match   \n",
              "4            0  thunder much cute hair quot anoth music festiv...   \n",
              "..         ...                                                ...   \n",
              "995          0                                im sure realli andi   \n",
              "996          0  dinner ok mussel appet follow chicken stew quo...   \n",
              "997          0  secretgarden gotten porn spammer check follow ...   \n",
              "998          0      nap interrupt mani time today go japanes rent   \n",
              "999          4    stay way late read help work sbo till back read   \n",
              "\n",
              "                                           Tweet_split  \n",
              "0    [realis, use, twitter, often, coz, atm, look, ...  \n",
              "1                                        [work, today]  \n",
              "2                                       [still, sleep]  \n",
              "3             [heavi, week, ahead, heavi, cold, match]  \n",
              "4    [thunder, much, cute, hair, quot, anoth, music...  \n",
              "..                                                 ...  \n",
              "995                           [im, sure, realli, andi]  \n",
              "996  [dinner, ok, mussel, appet, follow, chicken, s...  \n",
              "997  [secretgarden, gotten, porn, spammer, check, f...  \n",
              "998  [nap, interrupt, mani, time, today, go, japane...  \n",
              "999  [stay, way, late, read, help, work, sbo, till,...  \n",
              "\n",
              "[1000 rows x 3 columns]"
            ],
            "text/html": [
              "\n",
              "  <div id=\"df-8c656598-1fe5-4a79-a5c8-1b39ebbc3b38\">\n",
              "    <div class=\"colab-df-container\">\n",
              "      <div>\n",
              "<style scoped>\n",
              "    .dataframe tbody tr th:only-of-type {\n",
              "        vertical-align: middle;\n",
              "    }\n",
              "\n",
              "    .dataframe tbody tr th {\n",
              "        vertical-align: top;\n",
              "    }\n",
              "\n",
              "    .dataframe thead th {\n",
              "        text-align: right;\n",
              "    }\n",
              "</style>\n",
              "<table border=\"1\" class=\"dataframe\">\n",
              "  <thead>\n",
              "    <tr style=\"text-align: right;\">\n",
              "      <th></th>\n",
              "      <th>Sentiment</th>\n",
              "      <th>Tweet</th>\n",
              "      <th>Tweet_split</th>\n",
              "    </tr>\n",
              "  </thead>\n",
              "  <tbody>\n",
              "    <tr>\n",
              "      <th>0</th>\n",
              "      <td>4</td>\n",
              "      <td>realis use twitter often coz atm look like lea...</td>\n",
              "      <td>[realis, use, twitter, often, coz, atm, look, ...</td>\n",
              "    </tr>\n",
              "    <tr>\n",
              "      <th>1</th>\n",
              "      <td>0</td>\n",
              "      <td>work today</td>\n",
              "      <td>[work, today]</td>\n",
              "    </tr>\n",
              "    <tr>\n",
              "      <th>2</th>\n",
              "      <td>0</td>\n",
              "      <td>still sleep</td>\n",
              "      <td>[still, sleep]</td>\n",
              "    </tr>\n",
              "    <tr>\n",
              "      <th>3</th>\n",
              "      <td>0</td>\n",
              "      <td>heavi week ahead heavi cold match</td>\n",
              "      <td>[heavi, week, ahead, heavi, cold, match]</td>\n",
              "    </tr>\n",
              "    <tr>\n",
              "      <th>4</th>\n",
              "      <td>0</td>\n",
              "      <td>thunder much cute hair quot anoth music festiv...</td>\n",
              "      <td>[thunder, much, cute, hair, quot, anoth, music...</td>\n",
              "    </tr>\n",
              "    <tr>\n",
              "      <th>...</th>\n",
              "      <td>...</td>\n",
              "      <td>...</td>\n",
              "      <td>...</td>\n",
              "    </tr>\n",
              "    <tr>\n",
              "      <th>995</th>\n",
              "      <td>0</td>\n",
              "      <td>im sure realli andi</td>\n",
              "      <td>[im, sure, realli, andi]</td>\n",
              "    </tr>\n",
              "    <tr>\n",
              "      <th>996</th>\n",
              "      <td>0</td>\n",
              "      <td>dinner ok mussel appet follow chicken stew quo...</td>\n",
              "      <td>[dinner, ok, mussel, appet, follow, chicken, s...</td>\n",
              "    </tr>\n",
              "    <tr>\n",
              "      <th>997</th>\n",
              "      <td>0</td>\n",
              "      <td>secretgarden gotten porn spammer check follow ...</td>\n",
              "      <td>[secretgarden, gotten, porn, spammer, check, f...</td>\n",
              "    </tr>\n",
              "    <tr>\n",
              "      <th>998</th>\n",
              "      <td>0</td>\n",
              "      <td>nap interrupt mani time today go japanes rent</td>\n",
              "      <td>[nap, interrupt, mani, time, today, go, japane...</td>\n",
              "    </tr>\n",
              "    <tr>\n",
              "      <th>999</th>\n",
              "      <td>4</td>\n",
              "      <td>stay way late read help work sbo till back read</td>\n",
              "      <td>[stay, way, late, read, help, work, sbo, till,...</td>\n",
              "    </tr>\n",
              "  </tbody>\n",
              "</table>\n",
              "<p>1000 rows × 3 columns</p>\n",
              "</div>\n",
              "      <button class=\"colab-df-convert\" onclick=\"convertToInteractive('df-8c656598-1fe5-4a79-a5c8-1b39ebbc3b38')\"\n",
              "              title=\"Convert this dataframe to an interactive table.\"\n",
              "              style=\"display:none;\">\n",
              "        \n",
              "  <svg xmlns=\"http://www.w3.org/2000/svg\" height=\"24px\"viewBox=\"0 0 24 24\"\n",
              "       width=\"24px\">\n",
              "    <path d=\"M0 0h24v24H0V0z\" fill=\"none\"/>\n",
              "    <path d=\"M18.56 5.44l.94 2.06.94-2.06 2.06-.94-2.06-.94-.94-2.06-.94 2.06-2.06.94zm-11 1L8.5 8.5l.94-2.06 2.06-.94-2.06-.94L8.5 2.5l-.94 2.06-2.06.94zm10 10l.94 2.06.94-2.06 2.06-.94-2.06-.94-.94-2.06-.94 2.06-2.06.94z\"/><path d=\"M17.41 7.96l-1.37-1.37c-.4-.4-.92-.59-1.43-.59-.52 0-1.04.2-1.43.59L10.3 9.45l-7.72 7.72c-.78.78-.78 2.05 0 2.83L4 21.41c.39.39.9.59 1.41.59.51 0 1.02-.2 1.41-.59l7.78-7.78 2.81-2.81c.8-.78.8-2.07 0-2.86zM5.41 20L4 18.59l7.72-7.72 1.47 1.35L5.41 20z\"/>\n",
              "  </svg>\n",
              "      </button>\n",
              "      \n",
              "  <style>\n",
              "    .colab-df-container {\n",
              "      display:flex;\n",
              "      flex-wrap:wrap;\n",
              "      gap: 12px;\n",
              "    }\n",
              "\n",
              "    .colab-df-convert {\n",
              "      background-color: #E8F0FE;\n",
              "      border: none;\n",
              "      border-radius: 50%;\n",
              "      cursor: pointer;\n",
              "      display: none;\n",
              "      fill: #1967D2;\n",
              "      height: 32px;\n",
              "      padding: 0 0 0 0;\n",
              "      width: 32px;\n",
              "    }\n",
              "\n",
              "    .colab-df-convert:hover {\n",
              "      background-color: #E2EBFA;\n",
              "      box-shadow: 0px 1px 2px rgba(60, 64, 67, 0.3), 0px 1px 3px 1px rgba(60, 64, 67, 0.15);\n",
              "      fill: #174EA6;\n",
              "    }\n",
              "\n",
              "    [theme=dark] .colab-df-convert {\n",
              "      background-color: #3B4455;\n",
              "      fill: #D2E3FC;\n",
              "    }\n",
              "\n",
              "    [theme=dark] .colab-df-convert:hover {\n",
              "      background-color: #434B5C;\n",
              "      box-shadow: 0px 1px 3px 1px rgba(0, 0, 0, 0.15);\n",
              "      filter: drop-shadow(0px 1px 2px rgba(0, 0, 0, 0.3));\n",
              "      fill: #FFFFFF;\n",
              "    }\n",
              "  </style>\n",
              "\n",
              "      <script>\n",
              "        const buttonEl =\n",
              "          document.querySelector('#df-8c656598-1fe5-4a79-a5c8-1b39ebbc3b38 button.colab-df-convert');\n",
              "        buttonEl.style.display =\n",
              "          google.colab.kernel.accessAllowed ? 'block' : 'none';\n",
              "\n",
              "        async function convertToInteractive(key) {\n",
              "          const element = document.querySelector('#df-8c656598-1fe5-4a79-a5c8-1b39ebbc3b38');\n",
              "          const dataTable =\n",
              "            await google.colab.kernel.invokeFunction('convertToInteractive',\n",
              "                                                     [key], {});\n",
              "          if (!dataTable) return;\n",
              "\n",
              "          const docLinkHtml = 'Like what you see? Visit the ' +\n",
              "            '<a target=\"_blank\" href=https://colab.research.google.com/notebooks/data_table.ipynb>data table notebook</a>'\n",
              "            + ' to learn more about interactive tables.';\n",
              "          element.innerHTML = '';\n",
              "          dataTable['output_type'] = 'display_data';\n",
              "          await google.colab.output.renderOutput(dataTable, element);\n",
              "          const docLink = document.createElement('div');\n",
              "          docLink.innerHTML = docLinkHtml;\n",
              "          element.appendChild(docLink);\n",
              "        }\n",
              "      </script>\n",
              "    </div>\n",
              "  </div>\n",
              "  "
            ]
          },
          "metadata": {},
          "execution_count": 161
        }
      ]
    },
    {
      "cell_type": "code",
      "source": [
        "reduced_corpus.shape"
      ],
      "metadata": {
        "colab": {
          "base_uri": "https://localhost:8080/"
        },
        "id": "zNEsAglEBXU0",
        "outputId": "bce68770-6bbc-4d9c-be73-8f7b68b6bd8e"
      },
      "execution_count": null,
      "outputs": [
        {
          "output_type": "execute_result",
          "data": {
            "text/plain": [
              "(1000, 3)"
            ]
          },
          "metadata": {},
          "execution_count": 162
        }
      ]
    },
    {
      "cell_type": "markdown",
      "source": [
        "# **Representación del texto como un vector: Word2Vec**\n",
        "El procesamiento automático de textos requiere adaptar la presentación textual de un documento a un formato de entrada válido para distintos algoritmos. La forma que se utiliza en este ejemplo se conoce como ***\"word2Vec\"***, un tipo de representación donde cada palabra se transforma en un vector ."
      ],
      "metadata": {
        "id": "U9pUHkZG85th"
      }
    },
    {
      "cell_type": "code",
      "source": [
        "import gensim\n",
        "\n",
        "tokenized_tweet = reduced_corpus[\"Tweet_split\"]\n",
        "\n",
        "model_w2v = gensim.models.Word2Vec(\n",
        "            tokenized_tweet,\n",
        "            window=5, # tamaño de la ventana de contexto\n",
        "            min_count=2, # ignora todas las palabras con una frecuencia total inferior a 2.                                 \n",
        "            sg = 1, # 1 para el modelo skip-gram\n",
        "            hs = 0, # 1 selecciona softmax jerárquico; 0 elige muestreo negativo.\n",
        "            negative = 10, # para el muestreo negativo\n",
        "            workers= 32, # indica el número de hilos con los que se trabajará durante el entrenamiento del modelo\n",
        "            seed = 34,\n",
        "            size=300\n",
        ") \n",
        "\n",
        "# model.build_vocab(tokenized_tweet)\n",
        "\n",
        "model_w2v.train(tokenized_tweet, total_examples= len(reduced_corpus[\"Tweet_split\"]), epochs=20 ) # numero de iteraciones\n"
      ],
      "metadata": {
        "colab": {
          "base_uri": "https://localhost:8080/"
        },
        "id": "ddCkS9n75QQR",
        "outputId": "8498ffba-2a8c-479d-fd44-ac18cf1b74ee"
      },
      "execution_count": null,
      "outputs": [
        {
          "output_type": "stream",
          "name": "stderr",
          "text": [
            "WARNING:gensim.models.base_any2vec:under 10 jobs per worker: consider setting a smaller `batch_words' for smoother alpha decay\n",
            "WARNING:gensim.models.base_any2vec:under 10 jobs per worker: consider setting a smaller `batch_words' for smoother alpha decay\n"
          ]
        },
        {
          "output_type": "execute_result",
          "data": {
            "text/plain": [
              "(88865, 136840)"
            ]
          },
          "metadata": {},
          "execution_count": 163
        }
      ]
    },
    {
      "cell_type": "markdown",
      "source": [
        "Tamaño del vector asociada a cada una de las palabras, en caso de querer definir la longitud se debería indicar el número en la variable ***size*** "
      ],
      "metadata": {
        "id": "NVrz31sa_1eS"
      }
    },
    {
      "cell_type": "code",
      "source": [
        "size_vector = len(model_w2v.wv['goodnight'])\n",
        "size_vector"
      ],
      "metadata": {
        "colab": {
          "base_uri": "https://localhost:8080/"
        },
        "id": "FMqf_DUP_ge7",
        "outputId": "c2500dfb-97b9-40e1-f585-21c9dff218b8"
      },
      "execution_count": null,
      "outputs": [
        {
          "output_type": "execute_result",
          "data": {
            "text/plain": [
              "100"
            ]
          },
          "metadata": {},
          "execution_count": 164
        }
      ]
    },
    {
      "cell_type": "code",
      "source": [
        "model_w2v.wv['goodnight'].shape"
      ],
      "metadata": {
        "colab": {
          "base_uri": "https://localhost:8080/"
        },
        "id": "rhmO0HwsBQhS",
        "outputId": "45173cf1-b4bc-47c1-9f40-e3a793def97d"
      },
      "execution_count": null,
      "outputs": [
        {
          "output_type": "execute_result",
          "data": {
            "text/plain": [
              "(100,)"
            ]
          },
          "metadata": {},
          "execution_count": 165
        }
      ]
    },
    {
      "cell_type": "code",
      "source": [
        "model_w2v.wv['goodnight']"
      ],
      "metadata": {
        "colab": {
          "base_uri": "https://localhost:8080/"
        },
        "id": "NRIDZhEn_mtr",
        "outputId": "8c958ada-3b85-483d-f4b7-0509c95cb3d2"
      },
      "execution_count": null,
      "outputs": [
        {
          "output_type": "execute_result",
          "data": {
            "text/plain": [
              "array([-0.04899945,  0.05775623, -0.01200921,  0.13747592,  0.01744397,\n",
              "       -0.06019304,  0.09607932, -0.1320978 ,  0.2306533 , -0.08154952,\n",
              "        0.11864791, -0.03696945, -0.16695537, -0.00541155, -0.08558234,\n",
              "       -0.00783106,  0.21356264,  0.17416938, -0.16976668,  0.21633425,\n",
              "        0.1487263 , -0.16255456,  0.3605209 ,  0.13222001, -0.1486412 ,\n",
              "       -0.2048432 , -0.21100844,  0.10778131,  0.12574403,  0.19410014,\n",
              "       -0.10554123,  0.160498  , -0.02122359,  0.03678202,  0.00498264,\n",
              "       -0.09373675,  0.30038366, -0.29669207,  0.07080056, -0.0845767 ,\n",
              "        0.18550898,  0.17228207,  0.1398607 , -0.01778615, -0.08944401,\n",
              "       -0.02222708, -0.09493336, -0.01843699, -0.12703365,  0.14816706,\n",
              "        0.11948284, -0.49195224,  0.16567157,  0.11348813, -0.07509871,\n",
              "       -0.19357218,  0.02514981,  0.07136189, -0.04492041, -0.25355104,\n",
              "       -0.13736355, -0.1256356 ,  0.06755043,  0.00901603, -0.20297523,\n",
              "       -0.14506412, -0.04295459,  0.03014802, -0.1284308 ,  0.22994165,\n",
              "        0.13405582,  0.26063865,  0.13997793, -0.14868307, -0.00465807,\n",
              "       -0.08526798,  0.0245749 ,  0.02274463,  0.16500896, -0.09243412,\n",
              "        0.07666413, -0.3539143 , -0.0696063 ,  0.30446333, -0.11734396,\n",
              "        0.01072818, -0.13419999, -0.04672319, -0.23757295,  0.11300249,\n",
              "        0.15065952, -0.21715957,  0.02143099, -0.0407143 ,  0.16228347,\n",
              "       -0.04787945, -0.01722213,  0.2574349 ,  0.01812706,  0.03872633],\n",
              "      dtype=float32)"
            ]
          },
          "metadata": {},
          "execution_count": 166
        }
      ]
    },
    {
      "cell_type": "markdown",
      "source": [
        "Como se explica anteriormente cada palabra estará representada por un vector. La salida que se obtiene de este modelo no puede usarse directamente para alimentar otros modelos, por ello se debe calcular un vector asociado a cada documento.\n",
        "\n",
        "En la celda que hay a continuación se recorre cada palabra de cada documento, de manera que se vayan sumando los vectores de las palabras que formen la oración. Una vez se consigue la suma total, se divide entre el número de palabras, para así obtener la media de todos los vectores."
      ],
      "metadata": {
        "id": "ntDt1G1LB5GS"
      }
    },
    {
      "cell_type": "code",
      "source": [
        "def word_vector(tokens, size):\n",
        "    vec = np.zeros(size).reshape((1, size))\n",
        "    count = 0\n",
        "    for word in tokens:\n",
        "        try:\n",
        "            vec += model_w2v.wv[word].reshape((1, size)) # sumar los vectores de las palabras que contiene cada documento\n",
        "            count += 1.\n",
        "        except KeyError:  # manejar el caso de que el token no esté en el vocabulario\n",
        "            continue\n",
        "    if count != 0:\n",
        "        vec /= count# calcular la media de los vectores de las palabras\n",
        "    return vec"
      ],
      "metadata": {
        "id": "TD3q3GKY_i8S"
      },
      "execution_count": null,
      "outputs": []
    },
    {
      "cell_type": "code",
      "source": [
        "wordvec_arrays = np.zeros((len(tokenized_tweet), size_vector)) \n",
        "\n",
        "for i in range(len(tokenized_tweet)):\n",
        "    wordvec_arrays[i,:] = word_vector(tokenized_tweet[i], size_vector)\n",
        "    \n",
        "wordvec_df = pd.DataFrame(wordvec_arrays)\n",
        "wordvec_df.shape"
      ],
      "metadata": {
        "colab": {
          "base_uri": "https://localhost:8080/"
        },
        "id": "2ggiWwIR_k1y",
        "outputId": "f9241e65-c9fd-446e-82e2-b9b697b8e3dd"
      },
      "execution_count": null,
      "outputs": [
        {
          "output_type": "execute_result",
          "data": {
            "text/plain": [
              "(1000, 100)"
            ]
          },
          "metadata": {},
          "execution_count": 168
        }
      ]
    },
    {
      "cell_type": "code",
      "source": [
        "from sklearn.model_selection import train_test_split\n",
        "xtrain_bow, xvalid_bow, ytrain, yvalid = train_test_split(reduced_corpus[\"Tweet_split\"], reduced_corpus['Sentiment'], random_state=42, test_size=0.3)"
      ],
      "metadata": {
        "id": "ptyrrqepC1Ar"
      },
      "execution_count": null,
      "outputs": []
    },
    {
      "cell_type": "code",
      "source": [
        "xtrain_w2v = wordvec_df.iloc[ytrain.index,:]\n",
        "xvalid_w2v = wordvec_df.iloc[yvalid.index,:]"
      ],
      "metadata": {
        "id": "obEOZK-zIkzG"
      },
      "execution_count": null,
      "outputs": []
    },
    {
      "cell_type": "code",
      "source": [
        "from sklearn import svm, datasets\n",
        "from sklearn.model_selection import GridSearchCV\n",
        "from sklearn.metrics import f1_score\n",
        "\n",
        "parameters = {'kernel':('linear', 'rbf'), 'C':[1, 10]}"
      ],
      "metadata": {
        "id": "r2WYI0txFe3T"
      },
      "execution_count": null,
      "outputs": []
    },
    {
      "cell_type": "code",
      "source": [
        "svc = svm.SVC()\n",
        "clf = GridSearchCV(svc, parameters)\n",
        "clf.fit(xtrain_w2v, ytrain)"
      ],
      "metadata": {
        "colab": {
          "base_uri": "https://localhost:8080/"
        },
        "id": "SxTuBEUGFkdj",
        "outputId": "a7704db6-ae53-4dbb-ff4d-cc9c2739a0d6"
      },
      "execution_count": null,
      "outputs": [
        {
          "output_type": "execute_result",
          "data": {
            "text/plain": [
              "GridSearchCV(estimator=SVC(),\n",
              "             param_grid={'C': [1, 10], 'kernel': ('linear', 'rbf')})"
            ]
          },
          "metadata": {},
          "execution_count": 172
        }
      ]
    },
    {
      "cell_type": "code",
      "source": [
        "predictions = clf.predict(xvalid_w2v) "
      ],
      "metadata": {
        "id": "a6fqq5khFwMb"
      },
      "execution_count": null,
      "outputs": []
    },
    {
      "cell_type": "code",
      "source": [
        "from sklearn import metrics\n",
        "from sklearn.preprocessing import LabelEncoder\n",
        "from sklearn.base import clone\n",
        "from sklearn.preprocessing import label_binarize\n",
        "from scipy import interp\n",
        "from sklearn.metrics import roc_curve, auc \n",
        "import concurrent.futures"
      ],
      "metadata": {
        "id": "41KjkeUQF2F7"
      },
      "execution_count": null,
      "outputs": []
    },
    {
      "cell_type": "code",
      "source": [
        "def get_metrics(true_labels, predicted_labels):\n",
        "    \n",
        "    parameters = []\n",
        "    \n",
        "    parameters.append(np.round(metrics.accuracy_score(true_labels,predicted_labels),4))\n",
        "    parameters.append(np.round(metrics.precision_score(true_labels,predicted_labels,average='weighted'),4))\n",
        "    parameters.append(np.round(metrics.recall_score(true_labels,predicted_labels,average='weighted'),4))\n",
        "    parameters.append(np.round(metrics.f1_score(true_labels,predicted_labels,average='weighted'),4) )\n",
        "\n",
        "    print('Accuracy:', parameters[0])\n",
        "    print('Precision:', parameters[1])\n",
        "    print('Recall:', parameters[2])\n",
        "    print('F1 Score:', parameters[3])\n",
        "    \n",
        "    return parameters"
      ],
      "metadata": {
        "id": "jJkT3MpGF8hk"
      },
      "execution_count": null,
      "outputs": []
    },
    {
      "cell_type": "code",
      "source": [
        "def display_classification_report(true_labels, predicted_labels, classes=[1,0]):\n",
        "\n",
        "    report = metrics.classification_report(true_labels, \n",
        "                                           predicted_labels, \n",
        "                                           ) \n",
        "    \n",
        "    print(report)\n",
        "    return report"
      ],
      "metadata": {
        "id": "eCGc7H9eGCa7"
      },
      "execution_count": null,
      "outputs": []
    },
    {
      "cell_type": "code",
      "source": [
        "def display_confusion_matrix(true_labels, predicted_labels, classes=[1,0]):\n",
        "\n",
        "    total_classes = len(classes)\n",
        "    level_labels = [total_classes*[0], list(range(total_classes))]\n",
        "\n",
        "    cm = metrics.confusion_matrix(true_labels,predicted_labels)\n",
        "    cm_frame = pd.DataFrame(cm, pd.MultiIndex([['Predicted:'], classes], level_labels), \n",
        "                            pd.MultiIndex([['Actual:'], classes], level_labels)) \n",
        "    print(cm_frame)"
      ],
      "metadata": {
        "id": "REtCy2rjGNdU"
      },
      "execution_count": null,
      "outputs": []
    },
    {
      "cell_type": "code",
      "source": [
        "def display_model_performance_metrics(true_labels, predicted_labels, classes=[1,0]):\n",
        "    \n",
        "    print('Model Performance metrics:')\n",
        "    print('-'*30)\n",
        "    parameters = get_metrics(true_labels, predicted_labels)\n",
        "    print('\\nModel Classification report:')\n",
        "    print('-'*30)\n",
        "    report = display_classification_report(true_labels, predicted_labels, classes)\n",
        "    print('\\nPrediction Confusion Matrix:')\n",
        "    print('-'*30)\n",
        "    display_confusion_matrix(true_labels, predicted_labels, classes)\n",
        "    \n",
        "    "
      ],
      "metadata": {
        "id": "spzSlgdkGSOD"
      },
      "execution_count": null,
      "outputs": []
    },
    {
      "cell_type": "code",
      "source": [
        "display_model_performance_metrics(yvalid, predictions,[0,4])"
      ],
      "metadata": {
        "colab": {
          "base_uri": "https://localhost:8080/"
        },
        "id": "_p5Z5k0dIIjy",
        "outputId": "35031809-0cf8-43b0-b55a-4ea0e0c8e772"
      },
      "execution_count": null,
      "outputs": [
        {
          "output_type": "stream",
          "name": "stdout",
          "text": [
            "Model Performance metrics:\n",
            "------------------------------\n",
            "Accuracy: 0.6133\n",
            "Precision: 0.6166\n",
            "Recall: 0.6133\n",
            "F1 Score: 0.6116\n",
            "\n",
            "Model Classification report:\n",
            "------------------------------\n",
            "              precision    recall  f1-score   support\n",
            "\n",
            "           0       0.64      0.55      0.59       152\n",
            "           4       0.59      0.68      0.64       148\n",
            "\n",
            "    accuracy                           0.61       300\n",
            "   macro avg       0.62      0.61      0.61       300\n",
            "weighted avg       0.62      0.61      0.61       300\n",
            "\n",
            "\n",
            "Prediction Confusion Matrix:\n",
            "------------------------------\n",
            "             Actual:     \n",
            "                   0    4\n",
            "Predicted: 0      83   69\n",
            "           4      47  101\n"
          ]
        }
      ]
    }
  ]
}